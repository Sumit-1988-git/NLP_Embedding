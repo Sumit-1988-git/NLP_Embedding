{
  "nbformat": 4,
  "nbformat_minor": 0,
  "metadata": {
    "colab": {
      "provenance": []
    },
    "kernelspec": {
      "name": "python3",
      "display_name": "Python 3"
    },
    "language_info": {
      "name": "python"
    }
  },
  "cells": [
    {
      "cell_type": "markdown",
      "source": [
        "# 📌 Import Necessary Libraries"
      ],
      "metadata": {
        "id": "5Ae-vdN9hTIW"
      }
    },
    {
      "cell_type": "code",
      "source": [
        "!pip install gensim"
      ],
      "metadata": {
        "colab": {
          "base_uri": "https://localhost:8080/"
        },
        "id": "zu4DrkySxIoD",
        "outputId": "1349b920-8950-4f23-ce79-660a3b3115ab"
      },
      "execution_count": 1,
      "outputs": [
        {
          "output_type": "stream",
          "name": "stdout",
          "text": [
            "Requirement already satisfied: gensim in /usr/local/lib/python3.11/dist-packages (4.3.3)\n",
            "Requirement already satisfied: numpy<2.0,>=1.18.5 in /usr/local/lib/python3.11/dist-packages (from gensim) (1.26.4)\n",
            "Requirement already satisfied: scipy<1.14.0,>=1.7.0 in /usr/local/lib/python3.11/dist-packages (from gensim) (1.13.1)\n",
            "Requirement already satisfied: smart-open>=1.8.1 in /usr/local/lib/python3.11/dist-packages (from gensim) (7.3.0.post1)\n",
            "Requirement already satisfied: wrapt in /usr/local/lib/python3.11/dist-packages (from smart-open>=1.8.1->gensim) (1.17.2)\n"
          ]
        }
      ]
    },
    {
      "cell_type": "code",
      "execution_count": 2,
      "metadata": {
        "colab": {
          "base_uri": "https://localhost:8080/"
        },
        "id": "oTcroDe7XDlh",
        "outputId": "b41726ab-a605-4e24-ad46-66b001227278"
      },
      "outputs": [
        {
          "output_type": "stream",
          "name": "stderr",
          "text": [
            "[nltk_data] Downloading package punkt to /root/nltk_data...\n",
            "[nltk_data]   Unzipping tokenizers/punkt.zip.\n",
            "[nltk_data] Downloading package punkt_tab to /root/nltk_data...\n",
            "[nltk_data]   Unzipping tokenizers/punkt_tab.zip.\n",
            "[nltk_data] Downloading package stopwords to /root/nltk_data...\n",
            "[nltk_data]   Unzipping corpora/stopwords.zip.\n"
          ]
        },
        {
          "output_type": "execute_result",
          "data": {
            "text/plain": [
              "True"
            ]
          },
          "metadata": {},
          "execution_count": 2
        }
      ],
      "source": [
        "import pandas as pd\n",
        "import numpy as np\n",
        "import matplotlib.pyplot as plt\n",
        "import seaborn as sns\n",
        "from sklearn.feature_extraction.text import CountVectorizer\n",
        "from nltk.tokenize import word_tokenize\n",
        "from nltk.corpus import stopwords\n",
        "import nltk\n",
        "import re\n",
        "\n",
        "# Download NLTK resources (run once)\n",
        "nltk.download('punkt')\n",
        "nltk.download('punkt_tab')\n",
        "nltk.download('stopwords')"
      ]
    },
    {
      "cell_type": "markdown",
      "source": [
        "# 📌 Load the dataset"
      ],
      "metadata": {
        "id": "boGTEcK1hXcz"
      }
    },
    {
      "cell_type": "code",
      "source": [
        "# Example dataset (replace with your data)\n",
        "data = {\n",
        "    \"text\": [\n",
        "        \"It's fascinating to learn NLP.\",\n",
        "        \"Embedding techniques transform text into numbers.\",\n",
        "        \"Bag of Words is a simple to learn, but powerful.\"\n",
        "    ]\n",
        "}\n",
        "df = pd.DataFrame(data)\n",
        "print(df)"
      ],
      "metadata": {
        "colab": {
          "base_uri": "https://localhost:8080/"
        },
        "id": "8_ieflIPhKrB",
        "outputId": "f54b812b-f082-4ff9-8c1d-e7993fb0895e"
      },
      "execution_count": 3,
      "outputs": [
        {
          "output_type": "stream",
          "name": "stdout",
          "text": [
            "                                                text\n",
            "0                     It's fascinating to learn NLP.\n",
            "1  Embedding techniques transform text into numbers.\n",
            "2   Bag of Words is a simple to learn, but powerful.\n"
          ]
        }
      ]
    },
    {
      "cell_type": "markdown",
      "source": [
        "# 📌 Preprocess the Text Data\n",
        "\n",
        "We'll perform:\n",
        "\n",
        "* Lowercasing\n",
        "\n",
        "* Removing punctuation/special characters\n",
        "\n",
        "* Tokenization\n",
        "\n",
        "* Stop-word removal"
      ],
      "metadata": {
        "id": "EtKhY_J3htMF"
      }
    },
    {
      "cell_type": "code",
      "source": [
        "def preprocess_text(text):\n",
        "    # Lowercase\n",
        "    text = text.lower()\n",
        "    # Remove punctuation/special chars\n",
        "    text = re.sub(r'[^\\w\\s]', '', text)\n",
        "    # Tokenize\n",
        "    tokens = word_tokenize(text)\n",
        "    # Remove stopwords\n",
        "    stop_words = set(stopwords.words('english'))\n",
        "    tokens = [word for word in tokens if word not in stop_words]\n",
        "    return \" \".join(tokens)  # Return as string for CountVectorizer\n",
        "\n",
        "# Apply preprocessing\n",
        "df['processed_text'] = df['text'].apply(preprocess_text)\n",
        "\n",
        "# Print the texts\n",
        "print(df[['text']])\n",
        "print('\\n')\n",
        "print(df[['processed_text']])"
      ],
      "metadata": {
        "colab": {
          "base_uri": "https://localhost:8080/"
        },
        "id": "e3kGZWlLh2a8",
        "outputId": "05825f9c-4764-4e53-d949-5bcbf59d582d"
      },
      "execution_count": 4,
      "outputs": [
        {
          "output_type": "stream",
          "name": "stdout",
          "text": [
            "                                                text\n",
            "0                     It's fascinating to learn NLP.\n",
            "1  Embedding techniques transform text into numbers.\n",
            "2   Bag of Words is a simple to learn, but powerful.\n",
            "\n",
            "\n",
            "                                processed_text\n",
            "0                        fascinating learn nlp\n",
            "1  embedding techniques transform text numbers\n",
            "2              bag words simple learn powerful\n"
          ]
        }
      ]
    },
    {
      "cell_type": "markdown",
      "source": [
        "# 📌 Bag of Words (BoW)"
      ],
      "metadata": {
        "id": "wbO9OoDDkbLQ"
      }
    },
    {
      "cell_type": "markdown",
      "source": [
        "* Create a BoW Representation\n",
        "\n",
        "(We'll use CountVectorizer from sklearn to convert processed text into word count matrix)"
      ],
      "metadata": {
        "id": "ygFa_gGjpFb_"
      }
    },
    {
      "cell_type": "code",
      "source": [
        "# Initialize CountVectorizer\n",
        "vectorizer = CountVectorizer()\n",
        "# Fit and transform the text\n",
        "bow_matrix = vectorizer.fit_transform(df['processed_text'])\n",
        "\n",
        "# Convert to DataFrame for better visualization\n",
        "bow_df = pd.DataFrame(\n",
        "    bow_matrix.toarray(),\n",
        "    columns=vectorizer.get_feature_names_out()\n",
        ")\n",
        "print(\"Bag of Words Matrix:\\n\")\n",
        "print(bow_df)"
      ],
      "metadata": {
        "colab": {
          "base_uri": "https://localhost:8080/"
        },
        "id": "-dpPCMR0khgl",
        "outputId": "9048c3e4-c222-4f84-d67b-8b57be1a2aa7"
      },
      "execution_count": 5,
      "outputs": [
        {
          "output_type": "stream",
          "name": "stdout",
          "text": [
            "Bag of Words Matrix:\n",
            "\n",
            "   bag  embedding  fascinating  learn  nlp  numbers  powerful  simple  \\\n",
            "0    0          0            1      1    1        0         0       0   \n",
            "1    0          1            0      0    0        1         0       0   \n",
            "2    1          0            0      1    0        0         1       1   \n",
            "\n",
            "   techniques  text  transform  words  \n",
            "0           0     0          0      0  \n",
            "1           1     1          1      0  \n",
            "2           0     0          0      1  \n"
          ]
        }
      ]
    },
    {
      "cell_type": "markdown",
      "source": [
        "# 📌 Analyze the BoW Matrix\n",
        "* Sparsity Check\n",
        "* Visualize Word Frequencies"
      ],
      "metadata": {
        "id": "MutDhBxWp43Y"
      }
    },
    {
      "cell_type": "code",
      "source": [
        "# Sparsity check\n",
        "sparsity = 1.0 - (bow_matrix.nnz / (bow_matrix.shape[0] * bow_matrix.shape[1]))\n",
        "print(f\"Sparsity: {sparsity:.2%}\")"
      ],
      "metadata": {
        "colab": {
          "base_uri": "https://localhost:8080/"
        },
        "id": "hqShuLXrqD89",
        "outputId": "17b35726-08cd-4fe5-bd9b-a58755ea1fe6"
      },
      "execution_count": 6,
      "outputs": [
        {
          "output_type": "stream",
          "name": "stdout",
          "text": [
            "Sparsity: 63.89%\n"
          ]
        }
      ]
    },
    {
      "cell_type": "code",
      "source": [
        "# Visualize word frequencies\n",
        "# Sum word counts across documents\n",
        "word_counts = bow_df.sum(axis=0).sort_values(ascending=False)\n",
        "print(\"Top Words by Frequency:\")\n",
        "print(word_counts.head(10))\n",
        "\n",
        "# Plot top words\n",
        "plt.figure(figsize=(10, 5))\n",
        "sns.barplot(x=word_counts.head(10).values, y=word_counts.head(10).index)\n",
        "plt.title(\"Top 10 Most Frequent Words\")\n",
        "plt.xlabel(\"Frequency\")\n",
        "plt.ylabel(\"Word\")\n",
        "plt.show()"
      ],
      "metadata": {
        "colab": {
          "base_uri": "https://localhost:8080/",
          "height": 695
        },
        "id": "-LHU15YPrUQF",
        "outputId": "ba77390e-a207-40b9-b496-a45ad6ca21fa"
      },
      "execution_count": 7,
      "outputs": [
        {
          "output_type": "stream",
          "name": "stdout",
          "text": [
            "Top Words by Frequency:\n",
            "learn          2\n",
            "bag            1\n",
            "embedding      1\n",
            "fascinating    1\n",
            "nlp            1\n",
            "numbers        1\n",
            "powerful       1\n",
            "simple         1\n",
            "techniques     1\n",
            "text           1\n",
            "dtype: int64\n"
          ]
        },
        {
          "output_type": "display_data",
          "data": {
            "text/plain": [
              "<Figure size 1000x500 with 1 Axes>"
            ],
            "image/png": "[encoded data removed]"
          },
          "metadata": {}
        }
      ]
    },
    {
      "cell_type": "markdown",
      "source": [
        "# Key Notes:\n",
        "\n",
        "Sparsity Check:\n",
        "\n",
        "* High sparsity means most entries are zero (common in text data).\n",
        "\n",
        "BoW Limitations:\n",
        "\n",
        "* Loses word order and context.\n",
        "\n",
        "* Sparse representation (high-dimensional for large vocabularies).\n",
        "\n",
        "Next Steps:\n",
        "\n",
        "* TF-IDF: Improves BoW by weighting rare words higher.\n",
        "\n",
        "* Word Embeddings (Word2Vec, GloVe): Capture semantic meaning."
      ],
      "metadata": {
        "id": "ZggS-qytquEW"
      }
    },
    {
      "cell_type": "markdown",
      "source": [
        "# 📌 TF-IDF (Term Frequency-Inverse Document Frequency)\n",
        "* Apply TF-IDF Transformation\n",
        "* Interpret TF-IDF Scores"
      ],
      "metadata": {
        "id": "vBy2zO4usH31"
      }
    },
    {
      "cell_type": "code",
      "source": [
        "# Apply TF-IDF Transformation\n",
        "from sklearn.feature_extraction.text import TfidfVectorizer\n",
        "\n",
        "# Initialize TF-IDF Vectorizer\n",
        "tfidf_vectorizer = TfidfVectorizer()\n",
        "tfidf_matrix = tfidf_vectorizer.fit_transform(df['processed_text'])\n",
        "\n",
        "# Convert to DataFrame\n",
        "tfidf_df = pd.DataFrame(\n",
        "    tfidf_matrix.toarray(),\n",
        "    columns=tfidf_vectorizer.get_feature_names_out()\n",
        ")\n",
        "print(\"TF-IDF Matrix:\")\n",
        "print(tfidf_df)"
      ],
      "metadata": {
        "colab": {
          "base_uri": "https://localhost:8080/"
        },
        "id": "6yEC2DUksapJ",
        "outputId": "ee99e7c7-2e0f-4238-80a1-c4675689256c"
      },
      "execution_count": 8,
      "outputs": [
        {
          "output_type": "stream",
          "name": "stdout",
          "text": [
            "TF-IDF Matrix:\n",
            "        bag  embedding  fascinating     learn       nlp   numbers  powerful  \\\n",
            "0  0.000000   0.000000     0.622766  0.473630  0.622766  0.000000  0.000000   \n",
            "1  0.000000   0.447214     0.000000  0.000000  0.000000  0.447214  0.000000   \n",
            "2  0.467351   0.000000     0.000000  0.355432  0.000000  0.000000  0.467351   \n",
            "\n",
            "     simple  techniques      text  transform     words  \n",
            "0  0.000000    0.000000  0.000000   0.000000  0.000000  \n",
            "1  0.000000    0.447214  0.447214   0.447214  0.000000  \n",
            "2  0.467351    0.000000  0.000000   0.000000  0.467351  \n"
          ]
        }
      ]
    },
    {
      "cell_type": "code",
      "source": [
        "print(tfidf_vectorizer.get_feature_names_out())"
      ],
      "metadata": {
        "colab": {
          "base_uri": "https://localhost:8080/"
        },
        "id": "mf7GzSuWttbb",
        "outputId": "6784520c-6dcf-49ca-a0d3-0424dc2cab3b"
      },
      "execution_count": 10,
      "outputs": [
        {
          "output_type": "stream",
          "name": "stdout",
          "text": [
            "['bag' 'embedding' 'fascinating' 'learn' 'nlp' 'numbers' 'powerful'\n",
            " 'simple' 'techniques' 'text' 'transform' 'words']\n"
          ]
        }
      ]
    },
    {
      "cell_type": "code",
      "source": [
        "# Take all words in a list and Analyze all the words\n",
        "word_list = list(tfidf_vectorizer.get_feature_names_out())\n",
        "\n",
        "# Iterate through the word list and analyze each word if it's in the DataFrame columns\n",
        "for word in word_list:\n",
        "    if word in tfidf_df.columns:\n",
        "        print(f\"TF-IDF scores for '{word}':\")\n",
        "        print(tfidf_df[word].describe())\n",
        "    else:\n",
        "        print(f\"'{word}' not found in TF-IDF matrix columns.\")"
      ],
      "metadata": {
        "colab": {
          "base_uri": "https://localhost:8080/"
        },
        "id": "xtBz8n7zttsv",
        "outputId": "ea96e00a-c107-4c88-cad7-4b985dc9e32e"
      },
      "execution_count": 9,
      "outputs": [
        {
          "output_type": "stream",
          "name": "stdout",
          "text": [
            "TF-IDF scores for 'bag':\n",
            "count    3.000000\n",
            "mean     0.155784\n",
            "std      0.269825\n",
            "min      0.000000\n",
            "25%      0.000000\n",
            "50%      0.000000\n",
            "75%      0.233675\n",
            "max      0.467351\n",
            "Name: bag, dtype: float64\n",
            "TF-IDF scores for 'embedding':\n",
            "count    3.000000\n",
            "mean     0.149071\n",
            "std      0.258199\n",
            "min      0.000000\n",
            "25%      0.000000\n",
            "50%      0.000000\n",
            "75%      0.223607\n",
            "max      0.447214\n",
            "Name: embedding, dtype: float64\n",
            "TF-IDF scores for 'fascinating':\n",
            "count    3.000000\n",
            "mean     0.207589\n",
            "std      0.359554\n",
            "min      0.000000\n",
            "25%      0.000000\n",
            "50%      0.000000\n",
            "75%      0.311383\n",
            "max      0.622766\n",
            "Name: fascinating, dtype: float64\n",
            "TF-IDF scores for 'learn':\n",
            "count    3.000000\n",
            "mean     0.276354\n",
            "std      0.246518\n",
            "min      0.000000\n",
            "25%      0.177716\n",
            "50%      0.355432\n",
            "75%      0.414531\n",
            "max      0.473630\n",
            "Name: learn, dtype: float64\n",
            "TF-IDF scores for 'nlp':\n",
            "count    3.000000\n",
            "mean     0.207589\n",
            "std      0.359554\n",
            "min      0.000000\n",
            "25%      0.000000\n",
            "50%      0.000000\n",
            "75%      0.311383\n",
            "max      0.622766\n",
            "Name: nlp, dtype: float64\n",
            "TF-IDF scores for 'numbers':\n",
            "count    3.000000\n",
            "mean     0.149071\n",
            "std      0.258199\n",
            "min      0.000000\n",
            "25%      0.000000\n",
            "50%      0.000000\n",
            "75%      0.223607\n",
            "max      0.447214\n",
            "Name: numbers, dtype: float64\n",
            "TF-IDF scores for 'powerful':\n",
            "count    3.000000\n",
            "mean     0.155784\n",
            "std      0.269825\n",
            "min      0.000000\n",
            "25%      0.000000\n",
            "50%      0.000000\n",
            "75%      0.233675\n",
            "max      0.467351\n",
            "Name: powerful, dtype: float64\n",
            "TF-IDF scores for 'simple':\n",
            "count    3.000000\n",
            "mean     0.155784\n",
            "std      0.269825\n",
            "min      0.000000\n",
            "25%      0.000000\n",
            "50%      0.000000\n",
            "75%      0.233675\n",
            "max      0.467351\n",
            "Name: simple, dtype: float64\n",
            "TF-IDF scores for 'techniques':\n",
            "count    3.000000\n",
            "mean     0.149071\n",
            "std      0.258199\n",
            "min      0.000000\n",
            "25%      0.000000\n",
            "50%      0.000000\n",
            "75%      0.223607\n",
            "max      0.447214\n",
            "Name: techniques, dtype: float64\n",
            "TF-IDF scores for 'text':\n",
            "count    3.000000\n",
            "mean     0.149071\n",
            "std      0.258199\n",
            "min      0.000000\n",
            "25%      0.000000\n",
            "50%      0.000000\n",
            "75%      0.223607\n",
            "max      0.447214\n",
            "Name: text, dtype: float64\n",
            "TF-IDF scores for 'transform':\n",
            "count    3.000000\n",
            "mean     0.149071\n",
            "std      0.258199\n",
            "min      0.000000\n",
            "25%      0.000000\n",
            "50%      0.000000\n",
            "75%      0.223607\n",
            "max      0.447214\n",
            "Name: transform, dtype: float64\n",
            "TF-IDF scores for 'words':\n",
            "count    3.000000\n",
            "mean     0.155784\n",
            "std      0.269825\n",
            "min      0.000000\n",
            "25%      0.000000\n",
            "50%      0.000000\n",
            "75%      0.233675\n",
            "max      0.467351\n",
            "Name: words, dtype: float64\n"
          ]
        }
      ]
    },
    {
      "cell_type": "markdown",
      "source": [
        "# 📌 Interpret TF-IDF Scores\n",
        "* TF (Term Frequency): How often a word appears in a document.\n",
        "\n",
        "* IDF (Inverse Document Frequency): Penalizes common words (e.g., \"the\", \"is\") across all documents.\n",
        "\n",
        "* **Key Insight**: Words with high TF-IDF scores are both frequent in a document and rare in the corpus."
      ],
      "metadata": {
        "id": "gg44evfqwDAk"
      }
    },
    {
      "cell_type": "markdown",
      "source": [
        "# 📌 Word2Vec\n",
        "* Train a Word2Vec Model\n",
        "* Extract and Visualize Word Vectors"
      ],
      "metadata": {
        "id": "sBbdx0wowZCH"
      }
    },
    {
      "cell_type": "code",
      "source": [
        "from gensim.models import Word2Vec\n",
        "\n",
        "# Tokenize sentences\n",
        "sentences = [text.split() for text in df['processed_text']]\n",
        "\n",
        "# Train Word2Vec\n",
        "model_w2v = Word2Vec(\n",
        "    sentences,\n",
        "    vector_size=100,  # Embedding dimension\n",
        "    window=5,         # Context window size\n",
        "    min_count=1,      # Ignore words with frequency < min_count\n",
        "    sg=0              # 0 for CBOW, 1 for Skipgram\n",
        ")\n",
        "\n",
        "# Save/load model\n",
        "model_w2v.save(\"word2vec.model\")\n",
        "# model_w2v = Word2Vec.load(\"word2vec.model\")"
      ],
      "metadata": {
        "id": "4ra5vja0ttvn"
      },
      "execution_count": 10,
      "outputs": []
    },
    {
      "cell_type": "markdown",
      "source": [
        "# 📌 Extract and visualize vectors"
      ],
      "metadata": {
        "id": "Mcv4oMQjxz6M"
      }
    },
    {
      "cell_type": "code",
      "source": [
        "# Get vector for a word\n",
        "for word in word_list:\n",
        "  vector = model_w2v.wv[word]  # Replace with a word from your vocab\n",
        "  print(f\"Vector for {word}:\\n\\n{vector}\\n\")\n",
        "\n",
        "# Visualize embeddings (PCA for 2D reduction)\n",
        "from sklearn.decomposition import PCA\n",
        "\n",
        "words = list(model_w2v.wv.key_to_index)[:10]  # First 10 words\n",
        "vectors = [model_w2v.wv[word] for word in words]\n",
        "\n",
        "# Reduce to 2D\n",
        "pca = PCA(n_components=2)\n",
        "vectors_2d = pca.fit_transform(vectors)\n",
        "\n",
        "# Plot\n",
        "plt.figure(figsize=(10, 5))\n",
        "plt.scatter(vectors_2d[:, 0], vectors_2d[:, 1])\n",
        "for i, word in enumerate(words):\n",
        "    plt.annotate(word, (vectors_2d[i, 0], vectors_2d[i, 1]))\n",
        "plt.title(\"Word2Vec Embeddings (PCA Reduced)\")\n",
        "plt.show()"
      ],
      "metadata": {
        "colab": {
          "base_uri": "https://localhost:8080/",
          "height": 1000
        },
        "id": "XWHgEFb7ttyG",
        "outputId": "2a19a54a-7983-42a0-bb19-a5df89d5ef44"
      },
      "execution_count": 11,
      "outputs": [
        {
          "output_type": "stream",
          "name": "stdout",
          "text": [
            "Vector for bag:\n",
            "\n",
            "[-0.00713902  0.00124103 -0.00717672 -0.00224462  0.0037193   0.00583312\n",
            "  0.00119818  0.00210273 -0.00411039  0.00722533 -0.00630704  0.00464722\n",
            " -0.00821997  0.00203647 -0.00497705 -0.00424769 -0.00310898  0.00565521\n",
            "  0.0057984  -0.00497465  0.00077333 -0.00849578  0.00780981  0.00925729\n",
            " -0.00274233  0.00080022  0.00074665  0.00547788 -0.00860608  0.00058446\n",
            "  0.00686942  0.00223159  0.00112468 -0.00932216  0.00848237 -0.00626413\n",
            " -0.00299237  0.00349379 -0.00077263  0.00141129  0.00178199 -0.0068289\n",
            " -0.00972481  0.00904058  0.00619805 -0.00691293  0.00340348  0.00020606\n",
            "  0.00475375 -0.00711994  0.00402695  0.00434743  0.00995737 -0.00447374\n",
            " -0.00138926 -0.00731732 -0.00969783 -0.00908026 -0.00102275 -0.00650329\n",
            "  0.00484973 -0.00616403  0.00251919  0.00073944 -0.00339215 -0.00097922\n",
            "  0.00997913  0.00914589 -0.00446183  0.00908303 -0.00564176  0.00593092\n",
            " -0.00309722  0.00343175  0.00301723  0.00690046 -0.00237388  0.00877504\n",
            "  0.00758943 -0.00954765 -0.00800821 -0.0076379   0.00292326 -0.00279472\n",
            " -0.00692952 -0.00812826  0.00830918  0.00199049 -0.00932802 -0.00479272\n",
            "  0.00313674 -0.00471321  0.00528084 -0.00423344  0.0026418  -0.00804569\n",
            "  0.00620989  0.00481889  0.00078719  0.00301345]\n",
            "\n",
            "Vector for embedding:\n",
            "\n",
            "[-0.00515624 -0.00666834 -0.00777684  0.00831073 -0.00198234 -0.00685496\n",
            " -0.00415439  0.00514413 -0.00286914 -0.00374966  0.00162143 -0.00277629\n",
            " -0.00158436  0.00107449 -0.00297794  0.00851928  0.00391094 -0.00995886\n",
            "  0.0062596  -0.00675425  0.00076943  0.00440423 -0.00510337 -0.00211067\n",
            "  0.00809548 -0.00424379 -0.00763626  0.00925791 -0.0021555  -0.00471943\n",
            "  0.0085708   0.00428334  0.00432484  0.00928451 -0.00845308  0.00525532\n",
            "  0.00203935  0.00418828  0.0016979   0.00446413  0.00448629  0.00610452\n",
            " -0.0032021  -0.00457573 -0.00042652  0.00253373 -0.00326317  0.00605772\n",
            "  0.00415413  0.00776459  0.00256927  0.00811668 -0.00138721  0.00807793\n",
            "  0.00371702 -0.00804732 -0.00393361 -0.00247188  0.00489304 -0.00087216\n",
            " -0.00283091  0.00783371  0.0093229  -0.00161493 -0.00515925 -0.00470176\n",
            " -0.00484605 -0.00960283  0.00137202 -0.00422492  0.00252671  0.00561448\n",
            " -0.00406591 -0.00959658  0.0015467  -0.00670012  0.00249517 -0.00378063\n",
            "  0.00707842  0.00064022  0.00356094 -0.00273913 -0.00171055  0.00765279\n",
            "  0.00140768 -0.00585045 -0.0078345   0.00123269  0.00645463  0.00555635\n",
            " -0.00897705  0.00859216  0.00404698  0.00746961  0.00974633 -0.00728958\n",
            " -0.00903996  0.005836    0.00939121  0.00350693]\n",
            "\n",
            "Vector for fascinating:\n",
            "\n",
            "[ 9.7702928e-03  8.1651136e-03  1.2809718e-03  5.0975787e-03\n",
            "  1.4081288e-03 -6.4551616e-03 -1.4280510e-03  6.4491653e-03\n",
            " -4.6173059e-03 -3.9930656e-03  4.9244044e-03  2.7130984e-03\n",
            " -1.8479753e-03 -2.8769434e-03  6.0107317e-03 -5.7167388e-03\n",
            " -3.2367026e-03 -6.4878250e-03 -4.2346325e-03 -8.5809948e-03\n",
            " -4.4697891e-03 -8.5112294e-03  1.4037776e-03 -8.6181965e-03\n",
            " -9.9166557e-03 -8.2016252e-03 -6.7726658e-03  6.6805850e-03\n",
            "  3.7845564e-03  3.5616636e-04 -2.9579818e-03 -7.4283206e-03\n",
            "  5.3341867e-04  4.9989222e-04  1.9561886e-04  8.5259555e-04\n",
            "  7.8633073e-04 -6.8160298e-05 -8.0070542e-03 -5.8702733e-03\n",
            " -8.3829118e-03 -1.3120425e-03  1.8206370e-03  7.4171280e-03\n",
            " -1.9634271e-03 -2.3252917e-03  9.4871549e-03  7.9704521e-05\n",
            " -2.4045217e-03  8.6048469e-03  2.6870037e-03 -5.3439722e-03\n",
            "  6.5881060e-03  4.5101536e-03 -7.0544672e-03 -3.2317400e-04\n",
            "  8.3448651e-04  5.7473574e-03 -1.7176545e-03 -2.8065301e-03\n",
            "  1.7484308e-03  8.4717153e-04  1.1928272e-03 -2.6342822e-03\n",
            " -5.9857843e-03  7.3229838e-03  7.5873756e-03  8.2963575e-03\n",
            " -8.5988473e-03  2.6364254e-03 -3.5599626e-03  9.6204039e-03\n",
            "  2.9037679e-03  4.6411133e-03  2.3856151e-03  6.6084778e-03\n",
            " -5.7432903e-03  7.8944126e-03 -2.4109220e-03 -4.5618857e-03\n",
            " -2.0609903e-03  9.7335577e-03 -6.8565905e-03 -2.1917201e-03\n",
            "  7.0009995e-03 -5.5749417e-05 -6.2949671e-03 -6.3935257e-03\n",
            "  8.9403950e-03  6.4295758e-03  4.7735930e-03 -3.2620477e-03\n",
            " -9.2676198e-03  3.7868882e-03  7.1605504e-03 -5.6328895e-03\n",
            " -7.8650126e-03 -2.9727400e-03 -4.9318983e-03 -2.3151112e-03]\n",
            "\n",
            "Vector for learn:\n",
            "\n",
            "[-5.3624040e-04  2.3643716e-04  5.1034749e-03  9.0094935e-03\n",
            " -9.3031777e-03 -7.1169836e-03  6.4590308e-03  8.9732092e-03\n",
            " -5.0155511e-03 -3.7634640e-03  7.3806858e-03 -1.5335090e-03\n",
            " -4.5367246e-03  6.5542124e-03 -4.8602796e-03 -1.8160623e-03\n",
            "  2.8766503e-03  9.9189812e-04 -8.2854182e-03 -9.4490498e-03\n",
            "  7.3119453e-03  5.0703865e-03  6.7578591e-03  7.6288427e-04\n",
            "  6.3510463e-03 -3.4054494e-03 -9.4642461e-04  5.7687149e-03\n",
            " -7.5218226e-03 -3.9361999e-03 -7.5117666e-03 -9.3006506e-04\n",
            "  9.5383525e-03 -7.3193465e-03 -2.3338259e-03 -1.9377887e-03\n",
            "  8.0776354e-03 -5.9310417e-03  4.5163550e-05 -4.7538509e-03\n",
            " -9.6037863e-03  5.0074160e-03 -8.7598003e-03 -4.3919333e-03\n",
            " -3.5100846e-05 -2.9618872e-04 -7.6614283e-03  9.6149789e-03\n",
            "  4.9821804e-03  9.2333695e-03 -8.1581175e-03  4.4959085e-03\n",
            " -4.1371775e-03  8.2455634e-04  8.4988289e-03 -4.4622859e-03\n",
            "  4.5176111e-03 -6.7871269e-03 -3.5485758e-03  9.3987389e-03\n",
            " -1.5776914e-03  3.2137946e-04 -4.1407314e-03 -7.6828767e-03\n",
            " -1.5080452e-03  2.4698554e-03 -8.8804873e-04  5.5337977e-03\n",
            " -2.7430444e-03  2.2601206e-03  5.4559284e-03  8.3461581e-03\n",
            " -1.4537764e-03 -9.2083691e-03  4.3706596e-03  5.7179900e-04\n",
            "  7.4420907e-03 -8.1330270e-04 -2.6384785e-03 -8.7532243e-03\n",
            " -8.5657788e-04  2.8266325e-03  5.4015615e-03  7.0528295e-03\n",
            " -5.7032616e-03  1.8588654e-03  6.0890131e-03 -4.7981688e-03\n",
            " -3.1073368e-03  6.7977961e-03  1.6315157e-03  1.8992175e-04\n",
            "  3.4737224e-03  2.1778283e-04  9.6190628e-03  5.0607282e-03\n",
            " -8.9176092e-03 -7.0417332e-03  9.0147799e-04  6.3926908e-03]\n",
            "\n",
            "Vector for nlp:\n",
            "\n",
            "[ 7.0887972e-03 -1.5679300e-03  7.9474989e-03 -9.4886590e-03\n",
            " -8.0294991e-03 -6.6403709e-03 -4.0034545e-03  4.9892161e-03\n",
            " -3.8135587e-03 -8.3199050e-03  8.4117772e-03 -3.7470020e-03\n",
            "  8.6086961e-03 -4.8957514e-03  3.9185942e-03  4.9220170e-03\n",
            "  2.3926091e-03 -2.8188038e-03  2.8491246e-03 -8.2562361e-03\n",
            " -2.7655398e-03 -2.5911583e-03  7.2490061e-03 -3.4634031e-03\n",
            " -6.5997029e-03  4.3404270e-03 -4.7448516e-04 -3.5975564e-03\n",
            "  6.8824720e-03  3.8723124e-03 -3.9002013e-03  7.7188847e-04\n",
            "  9.1435025e-03  7.7546560e-03  6.3618720e-03  4.6673026e-03\n",
            "  2.3844899e-03 -1.8416261e-03 -6.3712932e-03 -3.0181051e-04\n",
            " -1.5653884e-03 -5.7228567e-04 -6.2628710e-03  7.4340473e-03\n",
            " -6.5914928e-03 -7.2392775e-03 -2.7571463e-03 -1.5154004e-03\n",
            " -7.6357173e-03  6.9824100e-04 -5.3261113e-03 -1.2755442e-03\n",
            " -7.3651113e-03  1.9605684e-03  3.2731986e-03 -2.3138524e-05\n",
            " -5.4483581e-03 -1.7260861e-03  7.0849168e-03  3.7362587e-03\n",
            " -8.8810492e-03 -3.4135508e-03  2.3541022e-03  2.1380198e-03\n",
            " -9.4640078e-03  4.5711659e-03 -8.6569972e-03 -7.3870681e-03\n",
            "  3.4831120e-03 -3.4709584e-03  3.5644709e-03  8.8940905e-03\n",
            " -3.5743224e-03  9.3204249e-03  1.7110384e-03  9.8477742e-03\n",
            "  5.7050432e-03 -9.1494834e-03 -3.3277308e-03  6.5301750e-03\n",
            "  5.6027793e-03  8.7055154e-03  6.9261026e-03  8.0388878e-03\n",
            " -9.8230084e-03  4.2988253e-03 -5.0300765e-03  3.5123860e-03\n",
            "  6.0566878e-03  4.3921317e-03  7.5123594e-03  1.4977157e-03\n",
            " -1.2649416e-03  5.7684006e-03 -5.6395675e-03  3.8591625e-05\n",
            "  9.4565870e-03 -5.4812501e-03  3.8142789e-03 -8.1130210e-03]\n",
            "\n",
            "Vector for numbers:\n",
            "\n",
            "[-8.7274825e-03  2.1301615e-03 -8.7354420e-04 -9.3190884e-03\n",
            " -9.4281426e-03 -1.4107180e-03  4.4324086e-03  3.7040710e-03\n",
            " -6.4986930e-03 -6.8730675e-03 -4.9994122e-03 -2.2868442e-03\n",
            " -7.2502876e-03 -9.6033178e-03 -2.7436293e-03 -8.3628409e-03\n",
            " -6.0388758e-03 -5.6709289e-03 -2.3441375e-03 -1.7069972e-03\n",
            " -8.9569986e-03 -7.3519943e-04  8.1525063e-03  7.6904297e-03\n",
            " -7.2061159e-03 -3.6668312e-03  3.1185520e-03 -9.5707225e-03\n",
            "  1.4764392e-03  6.5244664e-03  5.7464195e-03 -8.7630618e-03\n",
            " -4.5171441e-03 -8.1401607e-03  4.5956374e-05  9.2636338e-03\n",
            "  5.9733056e-03  5.0673080e-03  5.0610625e-03 -3.2429171e-03\n",
            "  9.5521836e-03 -7.3564244e-03 -7.2703874e-03 -2.2653891e-03\n",
            " -7.7856064e-04 -3.2161034e-03 -5.9258583e-04  7.4888230e-03\n",
            " -6.9751858e-04 -1.6249407e-03  2.7443992e-03 -8.3591007e-03\n",
            "  7.8558037e-03  8.5361041e-03 -9.5840869e-03  2.4462664e-03\n",
            "  9.9049713e-03 -7.6658037e-03 -6.9669187e-03 -7.7365171e-03\n",
            "  8.3959233e-03 -6.8133592e-04  9.1444086e-03 -8.1582209e-03\n",
            "  3.7430846e-03  2.6350426e-03  7.4271322e-04  2.3276759e-03\n",
            " -7.4690939e-03 -9.3583735e-03  2.3545765e-03  6.1484552e-03\n",
            "  7.9856887e-03  5.7358947e-03 -7.7733636e-04  8.3061643e-03\n",
            " -9.3363142e-03  3.4061326e-03  2.6675343e-04  3.8572443e-03\n",
            "  7.3857834e-03 -6.7251669e-03  5.5844807e-03 -9.5222248e-03\n",
            " -8.0445886e-04 -8.6887367e-03 -5.0986730e-03  9.2892265e-03\n",
            " -1.8582619e-03  2.9144264e-03  9.0712793e-03  8.9381328e-03\n",
            " -8.2084350e-03 -3.0123137e-03  9.8866057e-03  5.1044310e-03\n",
            " -1.5880871e-03 -8.6920215e-03  2.9615164e-03 -6.6758976e-03]\n",
            "\n",
            "Vector for powerful:\n",
            "\n",
            "[-8.6196875e-03  3.6657380e-03  5.1898835e-03  5.7419385e-03\n",
            "  7.4669183e-03 -6.1676754e-03  1.1056137e-03  6.0472824e-03\n",
            " -2.8400505e-03 -6.1735227e-03 -4.1022300e-04 -8.3689485e-03\n",
            " -5.6000124e-03  7.1045388e-03  3.3525396e-03  7.2256695e-03\n",
            "  6.8002474e-03  7.5307419e-03 -3.7891543e-03 -5.6180597e-04\n",
            "  2.3483764e-03 -4.5190323e-03  8.3887316e-03 -9.8581640e-03\n",
            "  6.7646410e-03  2.9144168e-03 -4.9328315e-03  4.3981876e-03\n",
            " -1.7395747e-03  6.7113843e-03  9.9648498e-03 -4.3624435e-03\n",
            " -5.9933780e-04 -5.6956373e-03  3.8508223e-03  2.7866268e-03\n",
            "  6.8910765e-03  6.1010956e-03  9.5384968e-03  9.2734173e-03\n",
            "  7.8980681e-03 -6.9895042e-03 -9.1558648e-03 -3.5575271e-04\n",
            " -3.0998408e-03  7.8943167e-03  5.9385742e-03 -1.5456629e-03\n",
            "  1.5109634e-03  1.7900408e-03  7.8175711e-03 -9.5101865e-03\n",
            " -2.0553112e-04  3.4691966e-03 -9.3897223e-04  8.3817719e-03\n",
            "  9.0107834e-03  6.5365066e-03 -7.1162102e-04  7.7104042e-03\n",
            " -8.5343346e-03  3.2071066e-03 -4.6379971e-03 -5.0889552e-03\n",
            "  3.5896183e-03  5.3703394e-03  7.7695143e-03 -5.7665063e-03\n",
            "  7.4333609e-03  6.6254963e-03 -3.7098003e-03 -8.7456414e-03\n",
            "  5.4374672e-03  6.5097557e-03 -7.8755023e-04 -6.7098560e-03\n",
            " -7.0859254e-03 -2.4970602e-03  5.1432536e-03 -3.6652375e-03\n",
            " -9.3700597e-03  3.8267397e-03  4.8844791e-03 -6.4285635e-03\n",
            "  1.2085581e-03 -2.0748770e-03  2.4403334e-05 -9.8835090e-03\n",
            "  2.6920044e-03 -4.7501065e-03  1.0876465e-03 -1.5762246e-03\n",
            "  2.1966731e-03 -7.8815762e-03 -2.7171839e-03  2.6631986e-03\n",
            "  5.3466819e-03 -2.3915148e-03 -9.5100943e-03  4.5058788e-03]\n",
            "\n",
            "Vector for simple:\n",
            "\n",
            "[ 9.4606818e-05  3.0773776e-03 -6.8131979e-03 -1.3761801e-03\n",
            "  7.6694721e-03  7.3471274e-03 -3.6738755e-03  2.6420886e-03\n",
            " -8.3169546e-03  6.2059229e-03 -4.6379939e-03 -3.1640683e-03\n",
            "  9.3119284e-03  8.7291177e-04  7.4912542e-03 -6.0740742e-03\n",
            "  5.1604160e-03  9.9229915e-03 -8.4569734e-03 -5.1351031e-03\n",
            " -7.0655630e-03 -4.8631541e-03 -3.7791673e-03 -8.5364664e-03\n",
            "  7.9553211e-03 -4.8437999e-03  8.4238918e-03  5.2622636e-03\n",
            " -6.5496182e-03  3.9582662e-03  5.4708519e-03 -7.4266484e-03\n",
            " -7.4066226e-03 -2.4747383e-03 -8.6257607e-03 -1.5814647e-03\n",
            " -4.0405328e-04  3.3002137e-03  1.4419125e-03 -8.8108389e-04\n",
            " -5.5934694e-03  1.7300298e-03 -8.9673174e-04  6.7941896e-03\n",
            "  3.9736903e-03  4.5296052e-03  1.4349202e-03 -2.7006485e-03\n",
            " -4.3672966e-03 -1.0327979e-03  1.4376794e-03 -2.6464134e-03\n",
            " -7.0736436e-03 -7.8055607e-03 -9.1226529e-03 -5.9349779e-03\n",
            " -1.8478114e-03 -4.3234644e-03 -6.4605610e-03 -3.7181240e-03\n",
            "  4.2893831e-03 -3.7391596e-03  8.3786938e-03  1.5346119e-03\n",
            " -7.2423834e-03  9.4338432e-03  7.6314667e-03  5.4929983e-03\n",
            " -6.8488065e-03  5.8226511e-03  4.0087793e-03  5.1848660e-03\n",
            "  4.2561158e-03  1.9404981e-03 -3.1705706e-03  8.3540073e-03\n",
            "  9.6118534e-03  3.7927576e-03 -2.8368654e-03  7.7892910e-06\n",
            "  1.2189131e-03 -8.4587457e-03 -8.2245553e-03 -2.3155443e-04\n",
            "  1.2377490e-03 -5.7436619e-03 -4.7258497e-03 -7.3458920e-03\n",
            "  8.3290553e-03  1.2078702e-04 -4.5096329e-03  5.7018311e-03\n",
            "  9.1799777e-03 -4.0999888e-03  7.9641500e-03  5.3751837e-03\n",
            "  5.8799414e-03  5.1313522e-04  8.2132174e-03 -7.0196963e-03]\n",
            "\n",
            "Vector for techniques:\n",
            "\n",
            "[-9.5785465e-03  8.9431154e-03  4.1650687e-03  9.2347348e-03\n",
            "  6.6435025e-03  2.9247368e-03  9.8040197e-03 -4.4246409e-03\n",
            " -6.8033109e-03  4.2273807e-03  3.7290000e-03 -5.6646108e-03\n",
            "  9.7047603e-03 -3.5583067e-03  9.5494064e-03  8.3472609e-04\n",
            " -6.3384566e-03 -1.9771170e-03 -7.3770545e-03 -2.9795230e-03\n",
            "  1.0416972e-03  9.4826873e-03  9.3558477e-03 -6.5958775e-03\n",
            "  3.4751510e-03  2.2755705e-03 -2.4893521e-03 -9.2291720e-03\n",
            "  1.0271263e-03 -8.1657059e-03  6.3201892e-03 -5.8000805e-03\n",
            "  5.5354391e-03  9.8337233e-03 -1.6000033e-04  4.5284927e-03\n",
            " -1.8094003e-03  7.3607611e-03  3.9400971e-03 -9.0103243e-03\n",
            " -2.3985039e-03  3.6287690e-03 -9.9568366e-05 -1.2012708e-03\n",
            " -1.0554385e-03 -1.6716016e-03  6.0495257e-04  4.1650953e-03\n",
            " -4.2527914e-03 -3.8336217e-03 -5.2816868e-05  2.6935578e-04\n",
            " -1.6880632e-04 -4.7855065e-03  4.3134023e-03 -2.1719194e-03\n",
            "  2.1035396e-03  6.6652300e-04  5.9696771e-03 -6.8423809e-03\n",
            " -6.8157101e-03 -4.4762576e-03  9.4358288e-03 -1.5918827e-03\n",
            " -9.4292425e-03 -5.4504158e-04 -4.4489228e-03  6.0000787e-03\n",
            " -9.5836855e-03  2.8590010e-03 -9.2528323e-03  1.2498009e-03\n",
            "  5.9991982e-03  7.3973476e-03 -7.6214634e-03 -6.0530235e-03\n",
            " -6.8384409e-03 -7.9183402e-03 -9.4990805e-03 -2.1254970e-03\n",
            " -8.3593250e-04 -7.2562015e-03  6.7870365e-03  1.1196196e-03\n",
            "  5.8288667e-03  1.4728665e-03  7.8936579e-04 -7.3681297e-03\n",
            " -2.1766580e-03  4.3210792e-03 -5.0853146e-03  1.1307895e-03\n",
            "  2.8833640e-03 -1.5363609e-03  9.9322954e-03  8.3496347e-03\n",
            "  2.4156666e-03  7.1182456e-03  5.8914376e-03 -5.5806171e-03]\n",
            "\n",
            "Vector for text:\n",
            "\n",
            "[ 8.13227147e-03 -4.45733406e-03 -1.06835726e-03  1.00636482e-03\n",
            " -1.91113955e-04  1.14817743e-03  6.11386076e-03 -2.02715401e-05\n",
            " -3.24596534e-03 -1.51072862e-03  5.89729892e-03  1.51410222e-03\n",
            " -7.24261976e-04  9.33324732e-03 -4.92128357e-03 -8.38409644e-04\n",
            "  9.17541143e-03  6.74942741e-03  1.50285603e-03 -8.88256077e-03\n",
            "  1.14874600e-03 -2.28825561e-03  9.36823711e-03  1.20992784e-03\n",
            "  1.49006362e-03  2.40640994e-03 -1.83600665e-03 -4.99963388e-03\n",
            "  2.32429506e-04 -2.01418041e-03  6.60093315e-03  8.94012302e-03\n",
            " -6.74754381e-04  2.97701475e-03 -6.10765442e-03  1.69932481e-03\n",
            " -6.92623248e-03 -8.69402662e-03 -5.90020278e-03 -8.95647518e-03\n",
            "  7.27759488e-03 -5.77203138e-03  8.27635173e-03 -7.24354526e-03\n",
            "  3.42167495e-03  9.67499893e-03 -7.78544787e-03 -9.94505733e-03\n",
            " -4.32914635e-03 -2.68313056e-03 -2.71289347e-04 -8.83155130e-03\n",
            " -8.61755759e-03  2.80021061e-03 -8.20640661e-03 -9.06933658e-03\n",
            " -2.34046578e-03 -8.63180775e-03 -7.05664977e-03 -8.40115082e-03\n",
            " -3.01328895e-04 -4.56429832e-03  6.62717456e-03  1.52716041e-03\n",
            " -3.34147573e-03  6.10897178e-03 -6.01328490e-03 -4.65616956e-03\n",
            " -7.20750913e-03 -4.33658017e-03 -1.80932996e-03  6.48964290e-03\n",
            " -2.77039292e-03  4.91896737e-03  6.90444233e-03 -7.46370573e-03\n",
            "  4.56485013e-03  6.12697843e-03 -2.95447465e-03  6.62502181e-03\n",
            "  6.12587947e-03 -6.44348515e-03 -6.76455162e-03  2.53895880e-03\n",
            " -1.62381888e-03 -6.06512791e-03  9.49920900e-03 -5.13014663e-03\n",
            " -6.55409694e-03 -1.19885204e-04 -2.70142802e-03  4.44400299e-04\n",
            " -3.53745813e-03 -4.19330609e-04 -7.08615757e-04  8.22820642e-04\n",
            "  8.19481723e-03 -5.73670724e-03 -1.65952800e-03  5.57160750e-03]\n",
            "\n",
            "Vector for transform:\n",
            "\n",
            "[ 8.1681199e-03 -4.4430327e-03  8.9854337e-03  8.2536647e-03\n",
            " -4.4352221e-03  3.0310510e-04  4.2744912e-03 -3.9263200e-03\n",
            " -5.5599655e-03 -6.5123225e-03 -6.7073823e-04 -2.9592158e-04\n",
            "  4.4630850e-03 -2.4740540e-03 -1.7260908e-04  2.4618758e-03\n",
            "  4.8675989e-03 -3.0808449e-05 -6.3394094e-03 -9.2608072e-03\n",
            "  2.6657581e-05  6.6618943e-03  1.4660227e-03 -8.9665223e-03\n",
            " -7.9386048e-03  6.5519023e-03 -3.7856805e-03  6.2549924e-03\n",
            " -6.6810320e-03  8.4796622e-03 -6.5163244e-03  3.2880199e-03\n",
            " -1.0569858e-03 -6.7875278e-03 -3.2875966e-03 -1.1614120e-03\n",
            " -5.4709399e-03 -1.2113475e-03 -7.5633135e-03  2.6466595e-03\n",
            "  9.0701487e-03 -2.3772502e-03 -9.7651005e-04  3.5135616e-03\n",
            "  8.6650876e-03 -5.9218528e-03 -6.8875779e-03 -2.9329848e-03\n",
            "  9.1476962e-03  8.6626766e-04 -8.6784009e-03 -1.4469790e-03\n",
            "  9.4794659e-03 -7.5494875e-03 -5.3580985e-03  9.3165627e-03\n",
            " -8.9737261e-03  3.8259076e-03  6.6544057e-04  6.6607012e-03\n",
            "  8.3127534e-03 -2.8507852e-03 -3.9923131e-03  8.8979173e-03\n",
            "  2.0896459e-03  6.2489416e-03 -9.4457148e-03  9.5901238e-03\n",
            " -1.3483083e-03 -6.0521150e-03  2.9925345e-03 -4.5661093e-04\n",
            "  4.7064926e-03 -2.2830211e-03 -4.1378425e-03  2.2778988e-03\n",
            "  8.3543835e-03 -4.9956059e-03  2.6686788e-03 -7.9905549e-03\n",
            " -6.7733466e-03 -4.6766878e-04 -8.7677278e-03  2.7894378e-03\n",
            "  1.5985954e-03 -2.3196924e-03  5.0037908e-03  9.7487867e-03\n",
            "  8.4542679e-03 -1.8802249e-03  2.0581519e-03 -4.0036892e-03\n",
            " -8.2414057e-03  6.2779556e-03 -1.9491815e-03 -6.6620467e-04\n",
            " -1.7713320e-03 -4.5356657e-03  4.0617096e-03 -4.2701806e-03]\n",
            "\n",
            "Vector for words:\n",
            "\n",
            "[-8.2426779e-03  9.2993546e-03 -1.9766092e-04 -1.9672764e-03\n",
            "  4.6036304e-03 -4.0953159e-03  2.7431143e-03  6.9399667e-03\n",
            "  6.0654259e-03 -7.5107943e-03  9.3823504e-03  4.6718083e-03\n",
            "  3.9661205e-03 -6.2435055e-03  8.4599797e-03 -2.1501649e-03\n",
            "  8.8251876e-03 -5.3620026e-03 -8.1294188e-03  6.8245591e-03\n",
            "  1.6711927e-03 -2.1985089e-03  9.5136007e-03  9.4938548e-03\n",
            " -9.7740470e-03  2.5052286e-03  6.1566923e-03  3.8724565e-03\n",
            "  2.0227872e-03  4.3050171e-04  6.7363144e-04 -3.8206363e-03\n",
            " -7.1402504e-03 -2.0888723e-03  3.9238976e-03  8.8186832e-03\n",
            "  9.2591504e-03 -5.9759365e-03 -9.4026709e-03  9.7643770e-03\n",
            "  3.4297847e-03  5.1661171e-03  6.2823449e-03 -2.8042626e-03\n",
            "  7.3227035e-03  2.8302716e-03  2.8710044e-03 -2.3803699e-03\n",
            " -3.1282497e-03 -2.3701417e-03  4.2764368e-03  7.6057913e-05\n",
            " -9.5842788e-03 -9.6655441e-03 -6.1481940e-03 -1.2856961e-04\n",
            "  1.9974159e-03  9.4319675e-03  5.5843508e-03 -4.2906962e-03\n",
            "  2.7831673e-04  4.9643586e-03  7.6983096e-03 -1.1442233e-03\n",
            "  4.3234206e-03 -5.8143795e-03 -8.0419064e-04  8.1000505e-03\n",
            " -2.3600650e-03 -9.6634552e-03  5.7792603e-03 -3.9298222e-03\n",
            " -1.2228728e-03  9.9805174e-03 -2.2563506e-03 -4.7570644e-03\n",
            " -5.3293873e-03  6.9808899e-03 -5.7088719e-03  2.1136629e-03\n",
            " -5.2556600e-03  6.1207139e-03  4.3573068e-03  2.6063549e-03\n",
            " -1.4910829e-03 -2.7460635e-03  8.9929365e-03  5.2157748e-03\n",
            " -2.1625196e-03 -9.4703101e-03 -7.4260519e-03 -1.0637414e-03\n",
            " -7.9494715e-04 -2.5629092e-03  9.6827205e-03 -4.5852066e-04\n",
            "  5.8737611e-03 -7.4475873e-03 -2.5060738e-03 -5.5498634e-03]\n",
            "\n"
          ]
        },
        {
          "output_type": "display_data",
          "data": {
            "text/plain": [
              "<Figure size 1000x500 with 1 Axes>"
            ],
            "image/png": "[encoded data removed]"
          },
          "metadata": {}
        }
      ]
    },
    {
      "cell_type": "markdown",
      "source": [
        "# 📌 GloVe\n",
        "* Use Pre-trained GloVe Embeddings"
      ],
      "metadata": {
        "id": "eIpit8RM0tky"
      }
    },
    {
      "cell_type": "code",
      "source": [
        "glove_path = \"glove.6B.50d.txt\"\n",
        "glove_embeddings = {}\n",
        "with open(glove_path, 'r', encoding='utf-8') as f:\n",
        "    for line in f:\n",
        "        values = line.split()\n",
        "        word = values[0]\n",
        "        vector = np.asarray(values[1:], dtype='float32')\n",
        "        glove_embeddings[word] = vector\n",
        "\n",
        "# Example: Get GloVe vector for a word\n",
        "for word in word_list:\n",
        "#word = \"language\"\n",
        "  if word in glove_embeddings:\n",
        "    print(f\"GloVe vector for '{word}':\\n{glove_embeddings[word]}\")"
      ],
      "metadata": {
        "id": "_CRza8gItt0z"
      },
      "execution_count": 17,
      "outputs": []
    },
    {
      "cell_type": "code",
      "source": [
        "# !pip install glove_python\n",
        "# from glove import Corpus, Glove\n",
        "\n",
        "# # Create a corpus and train GloVe\n",
        "# corpus = Corpus()\n",
        "# corpus.fit(sentences, window=5)\n",
        "# glove = Glove(no_components=100, learning_rate=0.05)\n",
        "# glove.fit(corpus.matrix, epochs=30, no_threads=4)\n",
        "# glove.add_dictionary(corpus.dictionary)\n",
        "\n",
        "# Removed this cell as glove_python installation failed and is not the intended approach for using pre-trained GloVe."
      ],
      "metadata": {
        "id": "xm25VTc1tt3E"
      },
      "execution_count": 14,
      "outputs": []
    },
    {
      "cell_type": "markdown",
      "source": [
        "# 📌 FastText\n",
        "* Train a FastText Model"
      ],
      "metadata": {
        "id": "HYzM-VDT1v3R"
      }
    },
    {
      "cell_type": "code",
      "source": [
        "from gensim.models import FastText\n",
        "\n",
        "model_ft = FastText(\n",
        "    sentences,\n",
        "    vector_size=100,\n",
        "    window=5,\n",
        "    min_count=1,\n",
        "    sg=0,            # 0 for CBOW, 1 for Skip-gram\n",
        "    min_n=3,         # Min length of subword\n",
        "    max_n=6          # Max length of subword\n",
        ")\n",
        "\n",
        "# Get vector for a word (including OOV words via subwords)\n",
        "for word in word_list:\n",
        "  vector = model_ft.wv[word]\n",
        "  print(f\"FastText vector for {word}:\\n\\n{vector}\\n\")"
      ],
      "metadata": {
        "colab": {
          "base_uri": "https://localhost:8080/"
        },
        "id": "ELOjOz1jtt5z",
        "outputId": "f654b326-9dcd-4897-ede0-c96e5dd3ae9d"
      },
      "execution_count": 20,
      "outputs": [
        {
          "output_type": "stream",
          "name": "stdout",
          "text": [
            "FastText vector for bag:\n",
            "\n",
            "[-4.74195287e-04 -1.17636730e-04  8.90157651e-04  2.47775839e-04\n",
            "  1.43164839e-03  3.36289639e-03  3.57584143e-03 -1.17400533e-03\n",
            "  1.32699835e-03 -1.82306371e-03 -4.86408127e-03  4.43362398e-03\n",
            "  3.87896638e-04  7.67690144e-05  1.95660442e-03 -3.35708889e-03\n",
            "  2.02289247e-03 -1.97242619e-03 -2.16779299e-05  6.46800909e-04\n",
            "  2.94133858e-03  2.90764641e-04  2.30555655e-03  1.14118948e-03\n",
            " -1.90835295e-03  6.75281917e-04  6.24727516e-04  1.84786681e-03\n",
            " -1.32477446e-03  2.51683919e-03  1.98865822e-03 -3.75488284e-03\n",
            " -2.62076478e-03 -3.87655408e-03  1.67648459e-03  2.45511212e-04\n",
            " -2.71968369e-04  1.96331716e-03 -8.66644608e-04  8.38027801e-04\n",
            " -4.13548667e-03 -6.84100305e-05 -1.98975625e-03  1.11232419e-03\n",
            "  2.74415850e-03  9.09255992e-04 -2.05717236e-03  7.94398016e-04\n",
            "  9.17174475e-05 -4.92034422e-04  2.00512377e-03  4.65306314e-03\n",
            " -5.52744430e-04 -2.82725808e-03  1.10015142e-04 -1.94981112e-03\n",
            " -3.51586053e-03  1.15142949e-03  6.74316325e-05 -1.60976851e-04\n",
            "  4.26446786e-03 -1.16839237e-03 -8.32615071e-04  8.14280997e-04\n",
            "  7.69976235e-04  1.53406686e-03  2.73376890e-03 -2.47048354e-03\n",
            " -3.87642824e-04  2.77724676e-03  3.91645772e-05  5.47332980e-04\n",
            " -2.33039190e-03 -4.45680023e-04  1.28726312e-03 -7.59293980e-05\n",
            " -3.87012813e-04  1.27123261e-03  2.51581660e-03 -6.76796678e-03\n",
            "  1.03902232e-04 -3.99999227e-03 -1.90126221e-03 -3.12331482e-03\n",
            " -3.08930385e-03 -1.50850206e-03 -1.20285095e-03  1.05027444e-04\n",
            " -2.82237842e-03 -2.57240771e-03  4.25427395e-04  4.04537562e-03\n",
            "  1.08125278e-04 -7.97883957e-04  3.07831098e-03 -1.44163973e-03\n",
            "  2.84943776e-03  8.02996277e-04  1.75855565e-03  4.01211379e-04]\n",
            "\n",
            "FastText vector for embedding:\n",
            "\n",
            "[-1.6127419e-04 -1.1583930e-03  9.2614727e-04  1.6365179e-03\n",
            " -5.5577955e-04 -1.9767274e-04 -8.0566481e-04  1.0132975e-03\n",
            "  2.3006499e-03  4.6267171e-04 -8.3188375e-04  6.3226424e-04\n",
            "  5.7932449e-04  1.8557099e-04  4.3737594e-04  1.1442930e-03\n",
            "  1.9256214e-03 -1.9001134e-03 -8.8883820e-04 -1.3070360e-03\n",
            " -1.1767057e-03 -6.4487732e-04 -2.2537622e-03  1.6301083e-03\n",
            " -1.0207348e-03 -3.1518791e-04 -4.8550640e-04 -1.2744537e-03\n",
            "  3.1858878e-04  3.7524279e-04  3.3472906e-04  5.2009308e-04\n",
            " -1.7607377e-03 -5.8443271e-05 -1.8031283e-04  1.6770624e-03\n",
            "  2.1810152e-03  8.8410219e-04 -6.6897873e-04  5.1536551e-04\n",
            " -1.2072080e-03  4.9131096e-04 -5.7529850e-04  1.9303462e-04\n",
            "  9.1491424e-04 -1.1719965e-04 -5.9620582e-04  3.3933949e-04\n",
            " -8.2275720e-04 -8.4894782e-06  4.5255254e-04  4.9877632e-04\n",
            "  7.7477109e-04  2.8588204e-03  3.4462026e-04  3.1690413e-04\n",
            " -2.4966086e-04 -1.3530487e-04 -6.3671276e-04  5.1203754e-04\n",
            " -1.0063110e-03  4.8388998e-04 -2.5300151e-03 -5.9356110e-04\n",
            " -9.3798630e-04  7.5340166e-04  1.6979880e-03 -1.0364403e-03\n",
            "  4.0250632e-04 -2.8030751e-03  2.5065136e-04 -6.7649322e-04\n",
            " -1.7047765e-03 -4.2837157e-04  1.9301773e-03  1.7640471e-03\n",
            " -1.0160151e-03 -2.4665502e-04 -8.9265266e-04 -2.0343244e-04\n",
            "  2.0596704e-03  1.4297059e-03 -2.1568313e-03  2.3397815e-03\n",
            "  2.2413067e-03  7.7075913e-04  1.0762163e-03  3.0705484e-04\n",
            " -9.8741695e-04  1.1535275e-03  5.7832792e-04  3.1731077e-05\n",
            "  7.1504683e-04  1.3847284e-03 -1.2517174e-03  7.5958500e-04\n",
            "  2.6411127e-04 -1.8224341e-03 -1.3588347e-03 -1.8573696e-04]\n",
            "\n",
            "FastText vector for fascinating:\n",
            "\n",
            "[-7.48381426e-05 -3.97486263e-04  1.11484388e-03 -1.08964788e-03\n",
            "  2.08973000e-03 -1.00892433e-03  4.45004989e-04 -1.78091950e-03\n",
            "  1.82627235e-04 -2.30716920e-04  5.50657918e-04 -2.01430666e-04\n",
            " -1.28579350e-05 -8.81773245e-04 -2.62982416e-04 -1.03763363e-03\n",
            " -8.47154297e-04 -8.15066684e-04 -1.46454840e-03 -6.29727263e-04\n",
            " -1.19401223e-03 -1.15544979e-04  4.59317584e-04  8.80946347e-04\n",
            " -8.21121328e-04 -8.52666621e-04 -5.88549243e-04  7.89052516e-04\n",
            "  2.25786978e-04  7.27698090e-04 -1.51204353e-03 -1.66420621e-04\n",
            " -7.07000378e-04  1.52069249e-03  6.65668340e-04  4.01193334e-04\n",
            "  1.34904840e-04  6.15650206e-04 -1.21796585e-03 -1.15625991e-03\n",
            "  4.42124699e-04 -3.36628698e-04  1.52520696e-03 -1.16459623e-05\n",
            " -5.93705627e-04  4.34474030e-04 -1.20866299e-03 -9.68111446e-04\n",
            " -1.42431032e-04  1.35396654e-03  5.86771930e-04  2.73025827e-04\n",
            "  1.11660385e-03  8.40780267e-04 -3.38467275e-04  8.82956665e-04\n",
            " -1.02423655e-04 -5.65623865e-04 -1.34645042e-03 -7.12080742e-04\n",
            " -2.26701115e-04 -6.14215023e-05 -6.23846194e-04 -7.13406189e-04\n",
            "  3.03350447e-04 -7.44790246e-04 -1.02980109e-03  8.47537478e-04\n",
            "  1.14318973e-04 -3.10546398e-04  1.37716106e-05 -7.39440729e-04\n",
            "  7.49927131e-04  8.05345480e-04 -2.53802591e-05 -7.02929741e-04\n",
            "  1.08313595e-03  1.17770932e-03 -1.15669437e-03 -5.74758218e-04\n",
            "  4.86379344e-04 -6.41989900e-05 -1.74008636e-03 -2.87683633e-05\n",
            "  1.21696107e-03 -2.94316240e-04 -9.78289987e-04  1.16824661e-03\n",
            " -9.18751350e-04 -1.33870193e-03 -7.28015366e-05 -5.01014641e-04\n",
            " -1.03959197e-03 -1.76651127e-04 -3.95507814e-04  2.87591567e-04\n",
            " -8.86003778e-04 -4.53099230e-04  4.80938470e-04  1.05025002e-03]\n",
            "\n",
            "FastText vector for learn:\n",
            "\n",
            "[ 3.56565608e-04  3.59384976e-05  1.54840134e-04 -3.27021629e-03\n",
            " -1.61716295e-03  2.05267221e-03  2.69243331e-03 -7.44564575e-04\n",
            " -2.77010666e-04 -4.61417134e-04  3.45395762e-03 -1.19765195e-04\n",
            " -8.82294378e-04  1.72271102e-03  9.48046276e-04 -1.19774428e-03\n",
            " -1.79916655e-03  1.91104511e-04 -2.36262358e-03 -3.05947242e-03\n",
            " -8.92526878e-04 -2.49713747e-04  1.16316730e-03 -9.17683472e-04\n",
            "  8.36694846e-04  3.42422718e-04 -2.77878658e-04 -2.17711437e-03\n",
            "  2.81802320e-04 -3.10360396e-04  6.46387809e-04 -6.64280495e-04\n",
            "  2.75763730e-03  2.78906809e-04 -1.18193078e-04 -1.29000412e-03\n",
            " -1.36856781e-03  1.29444397e-03  9.12264921e-04 -1.14928244e-03\n",
            " -2.47965654e-04 -2.25012307e-03 -1.61890534e-03 -9.63272643e-04\n",
            " -7.93057727e-04  1.09036388e-04 -5.98190469e-04  1.65487803e-03\n",
            "  3.66000517e-04  1.16953289e-03  2.51544127e-03 -2.77973246e-03\n",
            " -1.11432211e-03  1.11931993e-03  5.75681392e-04  1.02456659e-03\n",
            "  4.66816127e-05 -6.45335167e-05  1.91538059e-03  2.19854468e-04\n",
            "  3.30152834e-04  6.61386503e-06 -2.20554904e-03  8.19918874e-04\n",
            " -4.38340794e-04 -1.60772435e-03 -8.86678114e-04  1.76375662e-03\n",
            " -4.20839526e-04 -9.70077817e-04 -8.88629816e-04  2.68170750e-03\n",
            " -8.48049531e-04 -1.14591024e-03 -1.59596896e-03  1.46498333e-03\n",
            "  2.79801083e-03  2.31458852e-03 -1.45977933e-03  2.28352612e-03\n",
            "  2.04544258e-03 -1.69067329e-03 -1.09374186e-03 -6.37962192e-04\n",
            " -1.54210581e-03  5.73330617e-04  2.97492486e-04 -1.71692495e-03\n",
            "  7.65417528e-04  1.00608717e-03  8.36762541e-04 -6.36028650e-04\n",
            " -2.31007324e-03 -1.87433165e-04  1.81076850e-03  8.57102743e-04\n",
            "  2.10479693e-03 -1.92466856e-03  2.15925346e-03  5.65918570e-04]\n",
            "\n",
            "FastText vector for nlp:\n",
            "\n",
            "[ 3.3862591e-03 -1.8433918e-03  3.0770160e-03 -2.4285189e-04\n",
            " -1.8356621e-03  1.3394433e-03 -1.8442189e-04 -3.1014645e-04\n",
            " -2.1522448e-03 -8.7288616e-04 -1.4960718e-03  5.8361618e-03\n",
            "  4.4111111e-03 -2.9523631e-03 -8.0580806e-04  1.9632056e-03\n",
            " -3.4963260e-03 -1.0245668e-03  5.5816374e-03 -5.0767437e-03\n",
            " -6.7673915e-04  2.5366503e-03  2.8054658e-03  7.2377309e-04\n",
            " -6.0146063e-04  4.3301657e-03 -4.5271564e-04 -2.5880174e-03\n",
            " -6.0271553e-04  2.4786617e-03 -3.3163002e-03  1.8798981e-03\n",
            "  3.0054708e-03 -2.5936291e-03  2.4345878e-03  3.3557320e-03\n",
            " -8.7709777e-04 -1.7726922e-03 -4.2185453e-03 -1.6428464e-03\n",
            " -8.3630747e-04 -5.2217225e-04  7.4392959e-04  1.4816147e-03\n",
            "  1.4372778e-03 -4.5824372e-03 -7.5720035e-04  1.0744005e-03\n",
            " -2.9500111e-03 -6.6413741e-05 -3.0530526e-03  3.1233889e-03\n",
            "  2.4083683e-03 -1.0121888e-03  2.3323258e-04 -3.9832057e-03\n",
            " -1.0278507e-03 -5.1549327e-04  1.0812914e-03  3.5152319e-03\n",
            " -3.1705624e-03  1.2730907e-03 -8.2219299e-04 -2.1821405e-03\n",
            "  2.6394841e-03  3.7243161e-03 -1.4410848e-03  2.1421125e-04\n",
            "  2.2519015e-04 -2.5170681e-03  2.1899280e-03  1.9703270e-03\n",
            " -1.2496448e-03 -2.0632956e-03 -6.4697873e-04  6.5715234e-03\n",
            " -1.4377580e-03  1.2559138e-03  1.2805176e-03 -4.9372402e-04\n",
            "  3.9227982e-03 -5.0953508e-04  2.2792115e-04 -2.0862940e-04\n",
            " -1.9864272e-03  4.6154275e-03  2.6602990e-03 -2.4681198e-03\n",
            "  2.5090580e-03  1.5488456e-03 -6.5520359e-04  1.4241774e-03\n",
            " -2.0487737e-03  2.6812025e-03  2.6814560e-03  7.2239857e-04\n",
            " -2.7507151e-04 -3.3648389e-03  1.6780570e-03 -2.7211118e-03]\n",
            "\n",
            "FastText vector for numbers:\n",
            "\n",
            "[-1.7955597e-03 -1.0850125e-03  1.4935296e-03  1.5986733e-03\n",
            "  1.5877633e-04  3.7794645e-04  5.9581245e-04 -1.9967892e-04\n",
            " -1.5069647e-03 -3.5463012e-04 -1.0440669e-03 -1.2046131e-05\n",
            " -2.6917199e-04 -2.2361965e-03 -1.3766648e-03 -5.8796094e-04\n",
            " -1.2135252e-03  5.0457095e-04  3.3427682e-04  8.8884035e-04\n",
            "  8.6600805e-04  1.6166075e-03  7.7937311e-04 -5.5040041e-04\n",
            " -2.5580815e-04  3.3414963e-05  8.8763202e-04 -1.4287987e-03\n",
            "  7.2789600e-04  1.1408726e-03 -8.3798706e-04 -1.3102506e-03\n",
            " -2.0158489e-04 -9.2387985e-04  5.1828800e-04  1.2499357e-03\n",
            "  1.0850261e-03 -9.6788316e-04  1.0740798e-04 -2.8077228e-04\n",
            " -5.2658742e-04  3.7280883e-04 -4.5011655e-04 -4.1020659e-04\n",
            "  1.8191492e-04 -1.2057577e-03  9.2706985e-05 -2.4254804e-03\n",
            "  2.5284446e-03 -1.2184501e-03  5.6115018e-06  7.7382574e-04\n",
            "  2.3998620e-03  1.7934958e-03 -1.1416449e-03  2.1258653e-03\n",
            " -2.7873190e-05 -2.7549730e-03  6.7214435e-04 -2.0352658e-03\n",
            " -3.3517688e-04  6.8449823e-04 -3.8973778e-04 -2.0704411e-03\n",
            "  5.6286115e-04 -1.3431875e-03  3.2797598e-05  1.3124641e-03\n",
            "  1.8485078e-04 -2.0203381e-03 -9.1247319e-04 -4.4669979e-04\n",
            "  7.9400692e-04 -4.2366440e-04  1.2822322e-03 -7.1185245e-04\n",
            " -8.3178660e-04  2.0706178e-04 -4.0565626e-04 -6.1341660e-04\n",
            "  2.1531426e-03  1.9111792e-03  5.0349574e-04  1.4213240e-03\n",
            "  3.9245770e-04 -3.6513412e-04  1.3733447e-03 -4.9075746e-04\n",
            "  9.4721581e-06 -2.1524141e-04  3.1027384e-04 -4.6647323e-04\n",
            " -2.5725623e-03 -1.7939152e-03 -4.6402492e-04  1.3689901e-03\n",
            " -3.9256789e-04 -8.2155917e-04 -1.1543772e-03  2.6005902e-03]\n",
            "\n",
            "FastText vector for powerful:\n",
            "\n",
            "[ 2.3046440e-04  1.4486901e-03  6.7263725e-04  1.3076013e-03\n",
            "  8.6160377e-04  5.0176005e-04 -5.1463943e-04  1.0137984e-03\n",
            " -4.1840307e-04 -2.1208053e-04 -1.1979426e-04 -5.6112459e-04\n",
            " -3.3033418e-04  1.1118160e-03 -2.2125691e-04  1.7776567e-04\n",
            " -4.1930290e-04  3.6803738e-04 -4.4879600e-04  1.3102239e-03\n",
            " -4.8630137e-04  1.4124804e-03  7.6095737e-04  7.7246228e-04\n",
            "  1.8267542e-04  3.7829939e-04  5.3427718e-04 -3.0107258e-03\n",
            " -7.3626539e-04 -1.2826847e-03 -1.8350596e-03 -8.6424634e-04\n",
            "  4.3649416e-05 -1.0952265e-03  4.7689496e-06  6.7711415e-05\n",
            "  8.4153964e-04 -4.3404178e-04  9.3847996e-04  1.2714657e-03\n",
            " -1.6160299e-03 -9.3592396e-05  3.4859151e-04 -4.6425685e-04\n",
            "  9.1570668e-04 -1.4827494e-04  1.2951904e-03 -9.1678393e-04\n",
            " -1.9778158e-04  1.3027111e-03 -1.0756036e-03 -2.6410498e-04\n",
            "  7.6616951e-04  7.3434296e-04 -9.9489640e-04 -6.2632695e-04\n",
            " -4.6107959e-04 -1.1031062e-03 -2.1796179e-04  8.1705861e-05\n",
            "  7.7129999e-04  1.9267930e-04 -1.2830147e-03 -1.4411113e-05\n",
            "  1.6025713e-04 -4.0509569e-04  6.2951533e-04  2.8702055e-04\n",
            " -1.4258400e-03  1.4670541e-03  4.2059258e-04 -4.0512852e-04\n",
            " -9.5927746e-05  3.2165768e-03 -1.4073625e-03  8.6765201e-04\n",
            "  7.9204445e-04  6.5726752e-04 -1.2475529e-04  2.3418602e-04\n",
            " -3.5447304e-04  2.3147028e-03 -3.3705108e-04 -1.3122417e-03\n",
            " -8.9125260e-04 -1.8913937e-03  6.0709874e-04 -6.4634572e-04\n",
            " -1.3224676e-03  1.9758266e-04  3.7081962e-04  2.2583555e-04\n",
            "  1.8643580e-03 -2.9263759e-04 -1.1932204e-03 -1.4705886e-03\n",
            " -4.1605745e-04  6.9491356e-04  5.0940673e-04  1.3275275e-03]\n",
            "\n",
            "FastText vector for simple:\n",
            "\n",
            "[-5.29658166e-04  2.18232884e-03 -1.40755845e-03 -1.05307857e-03\n",
            "  1.57031638e-03  2.91657378e-03  1.44497608e-03  2.79705884e-04\n",
            " -6.07091642e-04  1.64552033e-03  1.13492412e-03 -1.68131292e-03\n",
            "  2.82952632e-03 -7.24844809e-04  2.49393634e-03 -3.26352590e-03\n",
            "  8.16874788e-04  5.30143501e-04 -1.17914425e-03  2.32702339e-04\n",
            " -1.24913116e-03 -1.20373629e-03  1.81221997e-03 -8.21381807e-04\n",
            "  9.34896292e-04 -1.35719427e-03 -1.04971917e-03  1.06591404e-04\n",
            "  7.34733112e-05 -8.61951790e-04 -1.51622295e-03 -4.02642792e-04\n",
            "  1.41247889e-04 -1.60641258e-03 -3.65482527e-04 -5.61832276e-04\n",
            " -3.03233737e-05  2.00592354e-03  3.13907163e-04 -2.62548379e-03\n",
            " -1.44395349e-03 -2.72552570e-05 -1.14845484e-03 -7.09154003e-04\n",
            "  1.60178205e-03 -1.21879380e-03 -2.51557631e-03 -2.03860039e-03\n",
            " -1.82205904e-03 -5.11045109e-05  1.27225567e-03  3.26805841e-03\n",
            " -3.02073495e-05  1.09583605e-03 -2.41231173e-03 -4.35715454e-04\n",
            " -2.07660138e-03 -1.06603629e-03  1.51716958e-04 -1.16709620e-03\n",
            "  3.82999533e-05 -1.60338124e-03  3.01056949e-04 -5.32855745e-04\n",
            "  7.14319991e-04 -2.12580268e-03 -7.93943356e-04  1.20704249e-03\n",
            " -1.28284388e-03  2.68286117e-03  9.05753463e-04 -2.03463761e-03\n",
            "  1.02305808e-03 -1.63734003e-04  1.50788226e-04  3.04336171e-03\n",
            " -1.26775456e-04  1.51428219e-04  8.03929521e-04  8.72832548e-04\n",
            "  2.64449045e-05 -2.53107259e-03 -2.10035173e-03  7.77017194e-05\n",
            " -3.04130459e-04  3.36288183e-04 -3.41443438e-03 -2.07341835e-03\n",
            "  1.35300262e-03  1.46883260e-03  9.18144826e-04 -1.71565718e-03\n",
            "  5.72425524e-05 -2.04962841e-03  1.55003159e-03 -1.00812432e-03\n",
            "  9.74577095e-04  4.31873923e-04  2.17854045e-03  7.68773723e-04]\n",
            "\n",
            "FastText vector for techniques:\n",
            "\n",
            "[ 7.2623260e-04  1.0154651e-03 -3.1520767e-04 -5.2620715e-04\n",
            " -1.2482867e-03 -2.2677460e-03 -2.7141850e-03 -3.9389197e-04\n",
            " -2.1932048e-03  9.5326675e-04 -2.5011972e-04  5.2208785e-04\n",
            " -2.4654517e-05 -1.6200645e-03  7.7054137e-04 -1.2296732e-03\n",
            " -3.5925992e-04 -1.9366837e-05 -1.4971875e-04  2.8591385e-04\n",
            "  8.7467502e-05  4.2464593e-04  1.0930042e-03  1.0007899e-03\n",
            " -1.0231856e-03  4.4838351e-04  9.6163835e-04 -7.7695167e-04\n",
            " -7.2999275e-04  4.8068396e-04 -1.9773867e-03 -1.1747011e-05\n",
            "  1.1803457e-03  4.2040166e-04 -1.3924424e-03 -1.9666890e-04\n",
            " -4.0470011e-04  1.1753000e-03  1.7200371e-03 -1.2536382e-03\n",
            " -1.6070812e-03 -4.7461304e-04  7.1719621e-04 -1.2826286e-03\n",
            " -1.5162997e-03 -2.0980081e-03  7.9647300e-04  1.1410546e-03\n",
            "  1.4710914e-03 -1.8185166e-03 -2.4604257e-03 -1.1424772e-03\n",
            "  2.5452248e-06  1.1111312e-03  4.3653563e-04 -7.0678320e-04\n",
            "  1.5697588e-03 -7.1257289e-04  6.8212813e-04 -2.0505630e-03\n",
            " -5.9600052e-04  1.6828942e-04 -1.0424762e-03 -1.1531530e-03\n",
            "  7.5308140e-04  2.3049749e-04  6.2659057e-04  1.0186492e-03\n",
            "  2.1333054e-04 -2.1645316e-04 -1.2090263e-03 -1.9743249e-03\n",
            " -2.1789535e-03 -1.1368160e-03 -1.2431677e-03 -8.7360380e-04\n",
            "  6.0089689e-05  1.5483341e-04  1.5813813e-03  2.2539179e-04\n",
            " -1.1916435e-03  1.3487824e-03  2.8260282e-04  3.6685570e-04\n",
            "  8.5725851e-04 -1.4924588e-04 -8.9410436e-04  9.4786682e-04\n",
            " -1.7032006e-03  3.5566343e-05 -1.1657736e-03 -7.5643351e-05\n",
            "  7.4051670e-04 -7.7485113e-04 -1.8181077e-03 -4.4925947e-04\n",
            " -5.2169338e-04  4.9788528e-04 -4.2664437e-04  3.7908621e-04]\n",
            "\n",
            "FastText vector for text:\n",
            "\n",
            "[ 2.97783781e-03 -2.22329563e-03 -1.62751565e-03  2.88557552e-04\n",
            " -2.00828785e-04 -2.68950098e-04  2.42302706e-03 -7.97011307e-04\n",
            " -1.73321692e-03 -7.61162140e-04 -7.27312581e-05  1.08866996e-04\n",
            " -2.78548175e-03  3.06350226e-03  2.61525747e-05  1.33409305e-03\n",
            "  2.26493599e-03  2.51646363e-03  9.57434590e-04 -2.07618647e-03\n",
            " -1.26952608e-03 -2.36379728e-03  1.58688496e-03 -6.83229766e-04\n",
            " -5.24012466e-05  8.57331979e-05  3.72440764e-03 -2.99058715e-03\n",
            " -9.19388607e-04 -2.43863231e-03  1.28028402e-03  1.40474690e-03\n",
            "  3.28704994e-03  4.55500605e-03 -4.38010873e-04  1.65699166e-03\n",
            " -1.18999032e-03 -2.23668315e-03 -1.30685931e-03  3.75937700e-04\n",
            "  8.86238704e-05  1.47289457e-03  2.61610578e-04  8.11997044e-04\n",
            "  3.45990784e-03  1.31908339e-03  5.09684265e-04 -3.01601394e-04\n",
            " -7.11661181e-04 -2.67672818e-03 -4.16177325e-04 -5.65913448e-04\n",
            " -1.04713091e-03  5.59800246e-04  1.61485304e-03 -1.99677027e-03\n",
            " -8.66390765e-04 -2.91095511e-03  7.04188598e-04 -8.72282253e-04\n",
            "  3.22392327e-04 -6.21077663e-04 -1.41517585e-03 -2.51045870e-03\n",
            "  7.53966597e-05  6.31141069e-04  1.71454053e-03  1.94260280e-03\n",
            "  9.54311108e-04 -1.29565282e-03  9.29907721e-04  2.22125486e-03\n",
            " -9.26718290e-04  1.47270085e-03  3.11596855e-03 -2.56573176e-03\n",
            " -5.49487246e-04 -2.42230343e-03 -1.78888778e-03  2.30813678e-03\n",
            " -2.82931887e-03  6.21273008e-04  5.63952606e-04  3.04153212e-03\n",
            " -1.96053321e-03 -1.15701300e-03 -2.66473711e-04 -1.47910300e-03\n",
            " -3.52383096e-04  9.88246873e-04 -9.46512446e-04  1.04486907e-03\n",
            "  5.37976099e-04  1.74827990e-03 -1.15409959e-03 -1.00127677e-03\n",
            " -4.81478666e-04 -3.49878427e-03  3.50266520e-04  1.16159592e-03]\n",
            "\n",
            "FastText vector for transform:\n",
            "\n",
            "[ 1.03211765e-04  6.57197845e-04 -6.11169729e-04  1.92532642e-03\n",
            " -3.67705972e-04  4.16635099e-04  6.44150248e-04  6.89609325e-04\n",
            " -1.95553806e-03 -5.01751929e-05 -2.98056402e-04 -1.12214235e-04\n",
            " -9.63285042e-04  6.17058075e-04 -1.28476159e-03 -1.18460727e-03\n",
            " -4.55445057e-04 -6.10242540e-04 -1.06929603e-03 -2.21879920e-03\n",
            "  5.82121138e-04 -1.11665332e-03  6.71700924e-04 -8.35423416e-04\n",
            " -4.50948646e-05  6.10283168e-04  1.36438129e-03  3.72854556e-04\n",
            " -9.73465212e-04  1.55203335e-03 -9.46087181e-04 -2.40037625e-04\n",
            " -4.82348551e-04 -1.52700034e-03 -1.86189442e-04  8.29295779e-04\n",
            " -4.39691765e-04 -1.79064006e-03  1.57606846e-04  4.37842187e-04\n",
            "  1.80399220e-04  9.58457298e-04 -7.19034346e-04  1.56664837e-03\n",
            " -7.78117028e-05  1.10849028e-03 -1.48763077e-03 -1.15242801e-04\n",
            "  1.16771240e-04  1.62013713e-03  5.93935780e-04  2.09660223e-03\n",
            "  1.76386745e-03  1.39940181e-03  1.02245849e-05  7.36416259e-04\n",
            " -9.79876844e-04  2.22609332e-03  1.65989346e-04  1.62400084e-03\n",
            " -4.91784129e-04 -2.23707510e-04  1.25405169e-03 -1.25941320e-03\n",
            "  4.97942092e-04  1.59356976e-03 -3.68910842e-04 -8.74467194e-04\n",
            " -8.20117944e-04 -8.09060701e-04 -4.34299349e-04 -1.14252407e-03\n",
            "  9.69470886e-04 -9.85132647e-04 -1.40870421e-03  1.67965901e-03\n",
            "  5.41754940e-04 -1.05236901e-03 -6.83066319e-04  7.17585033e-04\n",
            " -4.01866055e-05 -8.51677556e-04 -1.52970920e-03 -9.62608261e-04\n",
            " -3.73885996e-04 -5.03808027e-04 -2.12958991e-03 -1.37214127e-04\n",
            " -6.17236889e-04 -9.17325844e-04  1.55069737e-03  6.41044287e-04\n",
            "  1.29232823e-03  2.29805172e-03  9.97601426e-04  6.55152893e-04\n",
            "  1.10259990e-03 -1.75465550e-03  6.55118376e-04 -6.48373098e-04]\n",
            "\n",
            "FastText vector for words:\n",
            "\n",
            "[ 2.2420182e-03  5.0056988e-04  1.4218267e-03  1.9781895e-03\n",
            "  1.0596779e-03 -7.6900586e-04  5.0858589e-04  3.4551177e-04\n",
            " -1.0778271e-03 -1.9851911e-03  1.6953814e-03  1.6469456e-03\n",
            " -9.3210133e-04 -1.5995281e-03 -3.4532377e-03  1.7260779e-03\n",
            "  1.7851492e-03 -5.3663924e-05  5.9958192e-04  1.8037668e-03\n",
            " -2.8078372e-03  5.7900633e-04 -8.2183321e-04 -1.1009771e-03\n",
            " -1.4465654e-03  1.9626545e-03  2.5677786e-03 -2.8079990e-04\n",
            "  4.3997853e-03  7.6445338e-04 -4.6011619e-04 -2.3583211e-03\n",
            " -5.5112882e-04  1.5304001e-03 -1.1810985e-04  2.7733275e-03\n",
            "  1.6704861e-03  1.5320251e-03  2.2263691e-04  1.9615400e-03\n",
            " -2.7726116e-04  7.0897666e-05  6.8018516e-04 -3.1980721e-03\n",
            " -2.4450992e-04  1.7067279e-03 -1.0105102e-04  4.1495683e-04\n",
            " -1.9502958e-03  1.4019350e-03  8.7845797e-04 -1.0983577e-03\n",
            " -4.2815106e-03 -1.7262283e-03  1.8406580e-03 -1.0740919e-03\n",
            " -6.7374686e-04 -9.1358763e-04  4.3530233e-04 -2.4486862e-03\n",
            "  1.1810852e-03  6.8771502e-04  2.0787825e-03 -1.3454095e-03\n",
            "  3.3322975e-04  1.9539893e-04 -1.9678685e-03 -3.2476740e-04\n",
            " -9.5938891e-04  9.0073620e-04 -1.8090706e-03 -1.3614360e-03\n",
            "  2.2502362e-03  2.6611115e-05  1.4599434e-03 -1.8619808e-03\n",
            " -1.5241331e-03 -5.1698199e-04 -2.3779706e-03  9.2909668e-06\n",
            "  2.2628681e-04 -1.6142029e-03  1.8781970e-03 -6.9955015e-04\n",
            "  1.0844149e-03 -1.3535325e-03 -1.1718104e-03  1.0944705e-03\n",
            " -5.7027105e-04  1.8997242e-04  9.8921463e-04 -2.1392542e-03\n",
            "  2.0584071e-03 -2.5368802e-04 -1.7173315e-03  3.5620129e-04\n",
            "  5.4554659e-04 -7.1068981e-04  6.0509890e-04 -5.4365366e-05]\n",
            "\n"
          ]
        }
      ]
    },
    {
      "cell_type": "markdown",
      "source": [
        "# 📌 Comparison of Word2Vec and FastText"
      ],
      "metadata": {
        "id": "XDjkyJsjMfDJ"
      }
    },
    {
      "cell_type": "code",
      "source": [
        "# Compare words for an OOV((Out-of-Vocabulary) word\n",
        "for word in word_list:\n",
        " oov_word = word\n",
        " print(f\"\\nWord: {oov_word}\")\n",
        " print(f\"Word2Vec: {model_w2v.wv[oov_word][:4]}\")\n",
        " print(f\"FastText: {model_ft.wv[oov_word][:4]}\")  # Works!"
      ],
      "metadata": {
        "colab": {
          "base_uri": "https://localhost:8080/"
        },
        "id": "yT3jomAftt9M",
        "outputId": "5083b153-9538-4b9f-97a2-bf77ff224e9a"
      },
      "execution_count": 34,
      "outputs": [
        {
          "output_type": "stream",
          "name": "stdout",
          "text": [
            "\n",
            "Word: bag\n",
            "Word2Vec: [-0.00713902  0.00124103 -0.00717672 -0.00224462]\n",
            "FastText: [-0.0004742  -0.00011764  0.00089016  0.00024778]\n",
            "\n",
            "Word: embedding\n",
            "Word2Vec: [-0.00515624 -0.00666834 -0.00777684  0.00831073]\n",
            "FastText: [-0.00016127 -0.00115839  0.00092615  0.00163652]\n",
            "\n",
            "Word: fascinating\n",
            "Word2Vec: [0.00977029 0.00816511 0.00128097 0.00509758]\n",
            "FastText: [-7.4838143e-05 -3.9748626e-04  1.1148439e-03 -1.0896479e-03]\n",
            "\n",
            "Word: learn\n",
            "Word2Vec: [-0.00053624  0.00023644  0.00510347  0.00900949]\n",
            "FastText: [ 3.5656561e-04  3.5938498e-05  1.5484013e-04 -3.2702163e-03]\n",
            "\n",
            "Word: nlp\n",
            "Word2Vec: [ 0.0070888  -0.00156793  0.0079475  -0.00948866]\n",
            "FastText: [ 0.00338626 -0.00184339  0.00307702 -0.00024285]\n",
            "\n",
            "Word: numbers\n",
            "Word2Vec: [-0.00872748  0.00213016 -0.00087354 -0.00931909]\n",
            "FastText: [-0.00179556 -0.00108501  0.00149353  0.00159867]\n",
            "\n",
            "Word: powerful\n",
            "Word2Vec: [-0.00861969  0.00366574  0.00518988  0.00574194]\n",
            "FastText: [0.00023046 0.00144869 0.00067264 0.0013076 ]\n",
            "\n",
            "Word: simple\n",
            "Word2Vec: [ 9.4606818e-05  3.0773776e-03 -6.8131979e-03 -1.3761801e-03]\n",
            "FastText: [-0.00052966  0.00218233 -0.00140756 -0.00105308]\n",
            "\n",
            "Word: techniques\n",
            "Word2Vec: [-0.00957855  0.00894312  0.00416507  0.00923473]\n",
            "FastText: [ 0.00072623  0.00101547 -0.00031521 -0.00052621]\n",
            "\n",
            "Word: text\n",
            "Word2Vec: [ 0.00813227 -0.00445733 -0.00106836  0.00100636]\n",
            "FastText: [ 0.00297784 -0.0022233  -0.00162752  0.00028856]\n",
            "\n",
            "Word: transform\n",
            "Word2Vec: [ 0.00816812 -0.00444303  0.00898543  0.00825366]\n",
            "FastText: [ 0.00010321  0.0006572  -0.00061117  0.00192533]\n",
            "\n",
            "Word: words\n",
            "Word2Vec: [-0.00824268  0.00929935 -0.00019766 -0.00196728]\n",
            "FastText: [0.00224202 0.00050057 0.00142183 0.00197819]\n"
          ]
        }
      ]
    },
    {
      "cell_type": "markdown",
      "source": [
        "# 📌 Inference on comparison with Word2Vec and GloVe\n",
        "* Advantage: FastText handles out-of-vocabulary (OOV) words by using subword n-grams."
      ],
      "metadata": {
        "id": "php3QUgf5Cmx"
      }
    }
  ]
}